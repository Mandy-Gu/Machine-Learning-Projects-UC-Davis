{
 "cells": [
  {
   "cell_type": "code",
   "execution_count": 1,
   "metadata": {},
   "outputs": [],
   "source": [
    "import io\n",
    "import ijson\n",
    "import string\n",
    "\n",
    "import pandas as pd\n",
    "import numpy as np\n",
    "\n",
    "import datetime\n",
    "from datetime import datetime\n",
    "\n",
    "import re\n",
    "\n",
    "import nltk\n",
    "from nltk.corpus import stopwords \n",
    "from nltk.stem.porter import *\n",
    "from nltk.probability import FreqDist\n",
    "\n",
    "import matplotlib.pyplot as plt\n",
    "\n",
    "from sklearn.decomposition import PCA\n",
    "from sklearn.model_selection import train_test_split\n",
    "from sklearn.linear_model import LinearRegression, LogisticRegression\n",
    "from sklearn.model_selection import cross_val_score\n",
    "from sklearn.metrics import mean_absolute_error\n",
    "from sklearn.metrics import make_scorer\n",
    "from sklearn.metrics import accuracy_score\n",
    "from sklearn.preprocessing import StandardScaler\n",
    "\n",
    "from mord import LogisticAT\n",
    "import glmnet_python\n",
    "from cvglmnet import cvglmnet\n",
    "from glmnet import glmnet\n",
    "\n",
    "from tqdm._tqdm_notebook import tqdm_notebook\n",
    "from tqdm import tqdm\n",
    "tqdm_notebook.pandas()"
   ]
  },
  {
   "cell_type": "code",
   "execution_count": 5,
   "metadata": {},
   "outputs": [],
   "source": [
    "cols = [\"reviewerID\", \"asin\", \"reviewerName\", \"helpful_start\",\n",
    "        \"helpful_end\", \"reviewText\", \"overall\", \"summary\",\n",
    "        \"unixReviewTime\", \"reviewTime\"]\n",
    "\n",
    "reviewerID = []\n",
    "asin = []\n",
    "reviewerName = []\n",
    "helpful_start = []\n",
    "helpful_end = []\n",
    "reviewText = []\n",
    "overall = []\n",
    "summary = []\n",
    "unixReviewTime = []\n",
    "reviewTime = []\n",
    "helpful = []\n",
    "\n",
    "a = datetime.datetime.now()\n",
    "\n",
    "with open('reviews_electronics.6.json', encoding=\"UTF-8\") as json_file:\n",
    "    cursor = 0\n",
    "    for line_number, line in enumerate(json_file):\n",
    "        #print (\"Processing line\", line_number + 1,\"at cursor index:\", cursor)\n",
    "        line_as_file = io.StringIO(line)\n",
    "        # Use a new parser for each line\n",
    "        json_parser = ijson.parse(line_as_file)\n",
    "        for prefix, type, value in json_parser:\n",
    "            if (type == 'string') | (type == 'number'):\n",
    "                if prefix.strip() == 'reviewerID':\n",
    "                    reviewerID.append(value)\n",
    "                    #print(value)\n",
    "                elif prefix.strip() == 'asin':\n",
    "                    asin.append(value)\n",
    "                elif prefix.strip() == 'reviewerName':\n",
    "                    reviewerName.append(value)\n",
    "                elif prefix.strip() == 'helpful.item':\n",
    "                    helpful.append(value)\n",
    "                elif prefix.strip() == 'reviewText':\n",
    "                    reviewText.append(value)\n",
    "                elif prefix.strip() == 'overall':\n",
    "                    overall.append(value)\n",
    "                elif prefix.strip() == 'summary':\n",
    "                    summary.append(value)\n",
    "                elif prefix.strip() == 'unixReviewTime':\n",
    "                    unixReviewTime.append(value)\n",
    "                elif prefix.strip() == 'reviewTime':\n",
    "                    reviewTime.append(value)\n",
    "        cursor += len(line)\n",
    "\n",
    "        \n",
    "b = datetime.datetime.now()\n",
    "       \n",
    "helpful_start = [helpful[i] for i in range(len(helpful)) if i%2 == 0]\n",
    "helpful_end = [helpful[i] for i in range(len(helpful)) if i%2 == 1]\n",
    "\n",
    "review = pd.DataFrame(list(zip(reviewerID, asin, reviewerName, helpful_start, helpful_end,\n",
    "                           reviewText, overall, summary, unixReviewTime, reviewTime)),\n",
    "               columns =cols)\n",
    "c=b-a\n",
    "print(c.seconds)"
   ]
  },
  {
   "cell_type": "markdown",
   "metadata": {},
   "source": [
    "__1.Treat each review as a document. Ignore misspellings. Convert all reviews to lower case. Remove stop words (use package to do this).__"
   ]
  },
  {
   "cell_type": "code",
   "execution_count": 5,
   "metadata": {},
   "outputs": [],
   "source": [
    "def lowercase_remove_stopwords(text):\n",
    "    '''\n",
    "    Remove stop words\n",
    "    '''\n",
    "    text = text.replace('can\\'t', 'can not')\n",
    "    text = text.replace('n\\'t', ' not')\n",
    "    text_without_stopwords = [word for word in re.split(r'\\W+', text.lower()) if word not in stopwords_without_neg]\n",
    "    return ' '.join(text_without_stopwords).strip()"
   ]
  },
  {
   "cell_type": "code",
   "execution_count": 6,
   "metadata": {},
   "outputs": [],
   "source": [
    "stop_words = stopwords.words('english')\n",
    "stopwords_without_neg = [word for word in stop_words if ('n\\'t' not in word) and ('not' not in word)]\n",
    "review_copy = review.copy()\n",
    "review_copy['reviewText'] = review_copy['reviewText'].progress_apply(lowercase_remove_stopwords)"
   ]
  },
  {
   "cell_type": "markdown",
   "metadata": {},
   "source": [
    "__2. Handle negation: Look for the following two negations: \"not\" and \"xxxn't\" (e.g., don't, didn't etc.). Split off the \"n't\" part from \"xxxn't\" into separate words \"xxx\" and \"not\". Attach all 'not's (any normal \"not\" appearing in the text as well as the \"n't\" converted to \"not\") to the subsequent word, eg \"not_nextword\" (code this yourself).__"
   ]
  },
  {
   "cell_type": "code",
   "execution_count": null,
   "metadata": {},
   "outputs": [],
   "source": [
    "def handle_negation(text):\n",
    "    '''\n",
    "    Convert xxxn't to 'xxx' and 'not'\n",
    "    '''\n",
    "    r = re.compile(r'(not) ([\\S]+)')\n",
    "    if r.findall(text) != []:\n",
    "        text = r.sub(r'\\1_\\2', text)\n",
    "    return text"
   ]
  },
  {
   "cell_type": "code",
   "execution_count": null,
   "metadata": {},
   "outputs": [],
   "source": [
    "review_copy['reviewText'] = review_copy['reviewText'].progress_apply(handle_negation)"
   ]
  },
  {
   "cell_type": "markdown",
   "metadata": {},
   "source": [
    "__3. Stem all words using Porter 1979 (use package to do this).__"
   ]
  },
  {
   "cell_type": "code",
   "execution_count": null,
   "metadata": {},
   "outputs": [],
   "source": [
    "stemmer = PorterStemmer()\n",
    "def stemming(text):\n",
    "    '''\n",
    "    Stem all words by Porter\n",
    "    '''\n",
    "    plurals = text.split()\n",
    "    singles = [stemmer.stem(plural) for plural in plurals]\n",
    "    return ' '.join(singles)"
   ]
  },
  {
   "cell_type": "code",
   "execution_count": 7,
   "metadata": {},
   "outputs": [],
   "source": [
    "review_copy['reviewText'] = review_copy['reviewText'].progress_apply(stemming)"
   ]
  },
  {
   "cell_type": "code",
   "execution_count": null,
   "metadata": {},
   "outputs": [],
   "source": [
    "review_copy['reviewText']"
   ]
  },
  {
   "cell_type": "markdown",
   "metadata": {},
   "source": [
    "__4. Create frequency count table for all word stems in all reviews (this will be big). Use the most frequent 500 words to define the word vector. Create a bag-of-word vector representation for each review in electronics__"
   ]
  },
  {
   "cell_type": "code",
   "execution_count": 99,
   "metadata": {},
   "outputs": [],
   "source": [
    "def top500(wordfreq):\n",
    "    '''\n",
    "    Find the most frequent 500 words\n",
    "    '''\n",
    "    aux = [(wordfreq[key], key) for key in wordfreq]\n",
    "    aux.sort(reverse = True)\n",
    "    words = [word for count, word in aux[:500]]\n",
    "    return words"
   ]
  },
  {
   "cell_type": "code",
   "execution_count": 100,
   "metadata": {},
   "outputs": [],
   "source": [
    "review_words = ' '.join(review_copy.reviewText.values.tolist())\n",
    "word_df = pd.DataFrame(review_words.split(), columns = ['Words'])\n",
    "wordfreq = dict(word_df['Words'].value_counts())\n",
    "freq_words = top500(wordfreq)"
   ]
  },
  {
   "cell_type": "code",
   "execution_count": 101,
   "metadata": {},
   "outputs": [],
   "source": [
    "def BoW(text):\n",
    "    '''\n",
    "    Create Bag of Words for each review\n",
    "    '''\n",
    "    vector = [] \n",
    "    for word in freq_words: \n",
    "        if word in text.split(): \n",
    "            vector.append(1) \n",
    "        else: \n",
    "            vector.append(0) \n",
    "    return vector"
   ]
  },
  {
   "cell_type": "code",
   "execution_count": 8,
   "metadata": {},
   "outputs": [],
   "source": [
    "review_copy['BoW'] = review_copy['reviewText'].progress_apply(BoW)"
   ]
  },
  {
   "cell_type": "markdown",
   "metadata": {},
   "source": [
    "__5. Establish a method for measuring the distance between different reviews. Print the mutual distance between the first 100 reviews (review IDs) to screen, sorted from\n",
    "closest to furthest.__"
   ]
  },
  {
   "cell_type": "code",
   "execution_count": 103,
   "metadata": {},
   "outputs": [
    {
     "data": {
      "text/html": [
       "<div>\n",
       "<style scoped>\n",
       "    .dataframe tbody tr th:only-of-type {\n",
       "        vertical-align: middle;\n",
       "    }\n",
       "\n",
       "    .dataframe tbody tr th {\n",
       "        vertical-align: top;\n",
       "    }\n",
       "\n",
       "    .dataframe thead th {\n",
       "        text-align: right;\n",
       "    }\n",
       "</style>\n",
       "<table border=\"1\" class=\"dataframe\">\n",
       "  <thead>\n",
       "    <tr style=\"text-align: right;\">\n",
       "      <th></th>\n",
       "      <th>use</th>\n",
       "      <th>work</th>\n",
       "      <th>one</th>\n",
       "      <th>great</th>\n",
       "      <th>would</th>\n",
       "      <th>good</th>\n",
       "      <th>get</th>\n",
       "      <th>like</th>\n",
       "      <th>product</th>\n",
       "      <th>time</th>\n",
       "      <th>...</th>\n",
       "      <th>smaller</th>\n",
       "      <th>own</th>\n",
       "      <th>total</th>\n",
       "      <th>direct</th>\n",
       "      <th>paid</th>\n",
       "      <th>older</th>\n",
       "      <th>con</th>\n",
       "      <th>ad</th>\n",
       "      <th>broke</th>\n",
       "      <th>onlin</th>\n",
       "    </tr>\n",
       "    <tr>\n",
       "      <th>reviewerID</th>\n",
       "      <th></th>\n",
       "      <th></th>\n",
       "      <th></th>\n",
       "      <th></th>\n",
       "      <th></th>\n",
       "      <th></th>\n",
       "      <th></th>\n",
       "      <th></th>\n",
       "      <th></th>\n",
       "      <th></th>\n",
       "      <th></th>\n",
       "      <th></th>\n",
       "      <th></th>\n",
       "      <th></th>\n",
       "      <th></th>\n",
       "      <th></th>\n",
       "      <th></th>\n",
       "      <th></th>\n",
       "      <th></th>\n",
       "      <th></th>\n",
       "      <th></th>\n",
       "    </tr>\n",
       "  </thead>\n",
       "  <tbody>\n",
       "    <tr>\n",
       "      <th>AKM1MP6P0OYPR</th>\n",
       "      <td>0</td>\n",
       "      <td>0</td>\n",
       "      <td>0</td>\n",
       "      <td>1</td>\n",
       "      <td>0</td>\n",
       "      <td>0</td>\n",
       "      <td>0</td>\n",
       "      <td>0</td>\n",
       "      <td>0</td>\n",
       "      <td>0</td>\n",
       "      <td>...</td>\n",
       "      <td>0</td>\n",
       "      <td>0</td>\n",
       "      <td>0</td>\n",
       "      <td>0</td>\n",
       "      <td>0</td>\n",
       "      <td>0</td>\n",
       "      <td>0</td>\n",
       "      <td>0</td>\n",
       "      <td>0</td>\n",
       "      <td>1</td>\n",
       "    </tr>\n",
       "    <tr>\n",
       "      <th>A3F61V9Q3BF9TB</th>\n",
       "      <td>1</td>\n",
       "      <td>0</td>\n",
       "      <td>0</td>\n",
       "      <td>0</td>\n",
       "      <td>1</td>\n",
       "      <td>1</td>\n",
       "      <td>0</td>\n",
       "      <td>1</td>\n",
       "      <td>0</td>\n",
       "      <td>0</td>\n",
       "      <td>...</td>\n",
       "      <td>0</td>\n",
       "      <td>0</td>\n",
       "      <td>0</td>\n",
       "      <td>0</td>\n",
       "      <td>0</td>\n",
       "      <td>0</td>\n",
       "      <td>0</td>\n",
       "      <td>0</td>\n",
       "      <td>0</td>\n",
       "      <td>0</td>\n",
       "    </tr>\n",
       "    <tr>\n",
       "      <th>AT9KVPURE1V5</th>\n",
       "      <td>1</td>\n",
       "      <td>0</td>\n",
       "      <td>0</td>\n",
       "      <td>1</td>\n",
       "      <td>0</td>\n",
       "      <td>0</td>\n",
       "      <td>0</td>\n",
       "      <td>1</td>\n",
       "      <td>0</td>\n",
       "      <td>0</td>\n",
       "      <td>...</td>\n",
       "      <td>0</td>\n",
       "      <td>0</td>\n",
       "      <td>0</td>\n",
       "      <td>0</td>\n",
       "      <td>0</td>\n",
       "      <td>0</td>\n",
       "      <td>0</td>\n",
       "      <td>0</td>\n",
       "      <td>0</td>\n",
       "      <td>0</td>\n",
       "    </tr>\n",
       "    <tr>\n",
       "      <th>A3LJN4DO57R82C</th>\n",
       "      <td>0</td>\n",
       "      <td>0</td>\n",
       "      <td>0</td>\n",
       "      <td>0</td>\n",
       "      <td>0</td>\n",
       "      <td>0</td>\n",
       "      <td>0</td>\n",
       "      <td>0</td>\n",
       "      <td>0</td>\n",
       "      <td>0</td>\n",
       "      <td>...</td>\n",
       "      <td>0</td>\n",
       "      <td>0</td>\n",
       "      <td>0</td>\n",
       "      <td>0</td>\n",
       "      <td>0</td>\n",
       "      <td>0</td>\n",
       "      <td>0</td>\n",
       "      <td>0</td>\n",
       "      <td>0</td>\n",
       "      <td>0</td>\n",
       "    </tr>\n",
       "    <tr>\n",
       "      <th>ACQD60U39I587</th>\n",
       "      <td>0</td>\n",
       "      <td>0</td>\n",
       "      <td>0</td>\n",
       "      <td>1</td>\n",
       "      <td>0</td>\n",
       "      <td>0</td>\n",
       "      <td>1</td>\n",
       "      <td>0</td>\n",
       "      <td>0</td>\n",
       "      <td>0</td>\n",
       "      <td>...</td>\n",
       "      <td>0</td>\n",
       "      <td>0</td>\n",
       "      <td>0</td>\n",
       "      <td>0</td>\n",
       "      <td>0</td>\n",
       "      <td>0</td>\n",
       "      <td>0</td>\n",
       "      <td>0</td>\n",
       "      <td>0</td>\n",
       "      <td>0</td>\n",
       "    </tr>\n",
       "  </tbody>\n",
       "</table>\n",
       "<p>5 rows × 500 columns</p>\n",
       "</div>"
      ],
      "text/plain": [
       "                use  work  one  great  would  good  get  like  product  time  \\\n",
       "reviewerID                                                                     \n",
       "AKM1MP6P0OYPR     0     0    0      1      0     0    0     0        0     0   \n",
       "A3F61V9Q3BF9TB    1     0    0      0      1     1    0     1        0     0   \n",
       "AT9KVPURE1V5      1     0    0      1      0     0    0     1        0     0   \n",
       "A3LJN4DO57R82C    0     0    0      0      0     0    0     0        0     0   \n",
       "ACQD60U39I587     0     0    0      1      0     0    1     0        0     0   \n",
       "\n",
       "                ...  smaller  own  total  direct  paid  older  con  ad  broke  \\\n",
       "reviewerID      ...                                                             \n",
       "AKM1MP6P0OYPR   ...        0    0      0       0     0      0    0   0      0   \n",
       "A3F61V9Q3BF9TB  ...        0    0      0       0     0      0    0   0      0   \n",
       "AT9KVPURE1V5    ...        0    0      0       0     0      0    0   0      0   \n",
       "A3LJN4DO57R82C  ...        0    0      0       0     0      0    0   0      0   \n",
       "ACQD60U39I587   ...        0    0      0       0     0      0    0   0      0   \n",
       "\n",
       "                onlin  \n",
       "reviewerID             \n",
       "AKM1MP6P0OYPR       1  \n",
       "A3F61V9Q3BF9TB      0  \n",
       "AT9KVPURE1V5        0  \n",
       "A3LJN4DO57R82C      0  \n",
       "ACQD60U39I587       0  \n",
       "\n",
       "[5 rows x 500 columns]"
      ]
     },
     "execution_count": 103,
     "metadata": {},
     "output_type": "execute_result"
    }
   ],
   "source": [
    "hundred_reviews = review_copy.iloc[:100]['BoW']\n",
    "bow = pd.DataFrame(index = review_copy.iloc[:100]['reviewerID'], columns = freq_words)\n",
    "for i in range(100):\n",
    "    bow.iloc[i] = hundred_reviews[i]\n",
    "bow.head()"
   ]
  },
  {
   "cell_type": "code",
   "execution_count": 105,
   "metadata": {},
   "outputs": [],
   "source": [
    "def calculate_distance(review1, review2):\n",
    "    '''\n",
    "    Calculate the distance between reviews\n",
    "    '''\n",
    "    distance = (sum(abs(np.array(review1) - np.array(review2)))) ** 0.5\n",
    "    return round(distance, 2)"
   ]
  },
  {
   "cell_type": "code",
   "execution_count": 106,
   "metadata": {},
   "outputs": [],
   "source": [
    "dist_dict = {}\n",
    "for i in range(len(bow)):\n",
    "    for j in range(i + 1, len(bow)):\n",
    "        review_id = (i, j)\n",
    "        dist_dict[review_id] = calculate_distance(bow.iloc[i], bow.iloc[j])"
   ]
  },
  {
   "cell_type": "code",
   "execution_count": 107,
   "metadata": {},
   "outputs": [],
   "source": [
    "dist_list = [(dist_dict[key], key) for key in dist_dict]\n",
    "dist_list.sort()"
   ]
  },
  {
   "cell_type": "markdown",
   "metadata": {},
   "source": [
    "__6. Run a PCA and graph the first two PCs for the first 100 reviews. Does your graph reflect your findings from the previous exercise?__"
   ]
  },
  {
   "cell_type": "code",
   "execution_count": 108,
   "metadata": {},
   "outputs": [
    {
     "data": {
      "text/html": [
       "<div>\n",
       "<style scoped>\n",
       "    .dataframe tbody tr th:only-of-type {\n",
       "        vertical-align: middle;\n",
       "    }\n",
       "\n",
       "    .dataframe tbody tr th {\n",
       "        vertical-align: top;\n",
       "    }\n",
       "\n",
       "    .dataframe thead th {\n",
       "        text-align: right;\n",
       "    }\n",
       "</style>\n",
       "<table border=\"1\" class=\"dataframe\">\n",
       "  <thead>\n",
       "    <tr style=\"text-align: right;\">\n",
       "      <th></th>\n",
       "      <th>z1</th>\n",
       "      <th>z2</th>\n",
       "    </tr>\n",
       "  </thead>\n",
       "  <tbody>\n",
       "    <tr>\n",
       "      <th>0</th>\n",
       "      <td>-1.635674</td>\n",
       "      <td>-0.003877</td>\n",
       "    </tr>\n",
       "    <tr>\n",
       "      <th>1</th>\n",
       "      <td>-0.285473</td>\n",
       "      <td>-0.704454</td>\n",
       "    </tr>\n",
       "    <tr>\n",
       "      <th>2</th>\n",
       "      <td>-0.419137</td>\n",
       "      <td>-0.778506</td>\n",
       "    </tr>\n",
       "    <tr>\n",
       "      <th>3</th>\n",
       "      <td>-1.355450</td>\n",
       "      <td>-0.055217</td>\n",
       "    </tr>\n",
       "    <tr>\n",
       "      <th>4</th>\n",
       "      <td>-0.609331</td>\n",
       "      <td>0.040246</td>\n",
       "    </tr>\n",
       "  </tbody>\n",
       "</table>\n",
       "</div>"
      ],
      "text/plain": [
       "         z1        z2\n",
       "0 -1.635674 -0.003877\n",
       "1 -0.285473 -0.704454\n",
       "2 -0.419137 -0.778506\n",
       "3 -1.355450 -0.055217\n",
       "4 -0.609331  0.040246"
      ]
     },
     "execution_count": 108,
     "metadata": {},
     "output_type": "execute_result"
    }
   ],
   "source": [
    "pca = PCA(n_components=2)\n",
    "pca.fit(bow)\n",
    "bow_transformed = pd.DataFrame(pca.transform(bow), columns = ['z1', 'z2'])\n",
    "bow_transformed.head()"
   ]
  },
  {
   "cell_type": "code",
   "execution_count": 109,
   "metadata": {},
   "outputs": [
    {
     "data": {
      "text/plain": [
       "(-2.2078340826104443,\n",
       " 7.219720833108498,\n",
       " -4.105178142746767,\n",
       " 4.8117362135017885)"
      ]
     },
     "execution_count": 109,
     "metadata": {},
     "output_type": "execute_result"
    },
    {
     "data": {
      "image/png": "[encoded data removed]",
      "text/plain": [
       "<Figure size 432x288 with 1 Axes>"
      ]
     },
     "metadata": {
      "needs_background": "light"
     },
     "output_type": "display_data"
    }
   ],
   "source": [
    "X = np.array(bow_transformed)\n",
    "plt.scatter(X[:, 0], X[:, 1], s = 20)\n",
    "plt.axis('equal')"
   ]
  },
  {
   "cell_type": "code",
   "execution_count": 110,
   "metadata": {},
   "outputs": [],
   "source": [
    "def calculate_tran_dist(review1, review2):\n",
    "    '''\n",
    "    Calculate Eucolidean distance between two reviews\n",
    "    '''\n",
    "    dist = ((review1['z1'] - review2['z1']) ** 2 + (review1['z1'] - review2['z1']) ** 2) ** 0.5\n",
    "#     dist = abs((review1['z1'] - review2['z1'] + review1['z2'] - review2['z2']))\n",
    "    return round(dist, 5)"
   ]
  },
  {
   "cell_type": "code",
   "execution_count": 111,
   "metadata": {},
   "outputs": [],
   "source": [
    "dist_dict_t = {}\n",
    "for i in range(len(bow_transformed)):\n",
    "    for j in range(i + 1, len(bow_transformed)):\n",
    "        review_id = (i, j)\n",
    "        dist_dict_t[review_id] = calculate_tran_dist(bow_transformed.iloc[i], bow_transformed.iloc[j])"
   ]
  },
  {
   "cell_type": "code",
   "execution_count": 112,
   "metadata": {},
   "outputs": [],
   "source": [
    "dist_list_t = [(dist_dict_t[key], key) for key in dist_dict_t]\n",
    "dist_list_t.sort()"
   ]
  },
  {
   "cell_type": "markdown",
   "metadata": {},
   "source": [
    "The distances of top 5 closest reviews based on BoW calculated by PCA"
   ]
  },
  {
   "cell_type": "code",
   "execution_count": 113,
   "metadata": {},
   "outputs": [
    {
     "data": {
      "text/plain": [
       "[(0.09419, (3, 34)),\n",
       " (0.6059, (11, 16)),\n",
       " (0.18992, (16, 84)),\n",
       " (0.2158, (16, 34)),\n",
       " (0.15286, (16, 61))]"
      ]
     },
     "execution_count": 113,
     "metadata": {},
     "output_type": "execute_result"
    }
   ],
   "source": [
    "top5 = [idx for dist, idx in dist_list[:5]]\n",
    "[(dist_dict_t[review], review) for review in top5]"
   ]
  },
  {
   "cell_type": "markdown",
   "metadata": {},
   "source": [
    "__7. Is it possible to use logistic regression to predict the rating (5 levels) of a\n",
    "product? Why may it be advantageous to use a logistic regression to predict the 5-star rating over MNL with 5 categories?__"
   ]
  },
  {
   "cell_type": "markdown",
   "metadata": {},
   "source": [
    "MNL will lose the information of a rating of 5 superior to that of 4.\n",
    "Instead of passing a binary variable to the logistic regression, we transfer the rating from 1 to 5 to 0.25 to 1, making it a non-standard logistic regression. And the cutoff point for each level is 0.2 to 1, respectively."
   ]
  },
  {
   "cell_type": "markdown",
   "metadata": {},
   "source": [
    "__8. Perform a lasso logistic regression and measure the out-of-sample accuracy of your method of choice.__"
   ]
  },
  {
   "cell_type": "code",
   "execution_count": 212,
   "metadata": {},
   "outputs": [],
   "source": [
    "def top10(wordfreq):\n",
    "    '''\n",
    "    Find the most frequent 10 words\n",
    "    '''\n",
    "    aux = [(wordfreq[key], key) for key in wordfreq if key not in freq_words]\n",
    "    aux.sort(reverse = True)\n",
    "    words = [word for count, word in aux[:10]]\n",
    "    return words"
   ]
  },
  {
   "cell_type": "code",
   "execution_count": 115,
   "metadata": {},
   "outputs": [],
   "source": [
    "def BoW_summary(text):\n",
    "    '''\n",
    "    Create Bag of Words for summary\n",
    "    '''\n",
    "    vector = [] \n",
    "    for word in freq_words_summary: \n",
    "        if word in text.split(): \n",
    "            vector.append(1) \n",
    "        else: \n",
    "            vector.append(0) \n",
    "    return vector"
   ]
  },
  {
   "cell_type": "code",
   "execution_count": 9,
   "metadata": {},
   "outputs": [],
   "source": [
    "review_copy['summary'] = review_copy['summary'].progress_apply(lowercase_remove_stopwords)\n",
    "review_copy['summary'] = review_copy['summary'].progress_apply(handle_negation)\n",
    "review_copy['summary'] = review_copy['summary'].progress_apply(stemming)"
   ]
  },
  {
   "cell_type": "code",
   "execution_count": 10,
   "metadata": {},
   "outputs": [],
   "source": [
    "summary_fdist = pd.DataFrame(summary.split(), columns = ['Words'])\n",
    "wordfreq = dict(summary_fdist['Words'].value_counts())\n",
    "freq_words_summary = top10(wordfreq)\n",
    "\n",
    "summary_bow = review_copy['summary'].progress_apply(BoW_summary)\n",
    "bow_for_summary = pd.DataFrame(np.asarray([bow for bow in summary_bow]), columns = freq_words_summary)"
   ]
  },
  {
   "cell_type": "code",
   "execution_count": 217,
   "metadata": {},
   "outputs": [],
   "source": [
    "bow_for_all = pd.DataFrame(np.asarray([bow for bow in review_copy['BoW']]), columns = freq_words)\n",
    "df = pd.concat([review_copy, bow_for_all, bow_for_summary], axis=1)\n",
    "\n",
    "col = list(df.columns[3:5]) + [df.columns[8]] + list(df.columns[11:])\n",
    "X = df[col]\n",
    "y = df['overall'].apply(lambda x: int(x))\n",
    "\n",
    "sc_X = StandardScaler()\n",
    "X_transformed = pd.DataFrame(sc_X.fit_transform(X))\n",
    "X_transformed.columns = X.columns.values"
   ]
  },
  {
   "cell_type": "code",
   "execution_count": 221,
   "metadata": {},
   "outputs": [],
   "source": [
    "def acc_fun(target_true, target_fit):\n",
    "    target_fit = np.round(target_fit)\n",
    "    target_fit.astype('int')\n",
    "    return accuracy_score(target_true, target_fit)"
   ]
  },
  {
   "cell_type": "code",
   "execution_count": 222,
   "metadata": {},
   "outputs": [
    {
     "name": "stdout",
     "output_type": "stream",
     "text": [
      "Ordered logistic regression:  0.5487918849290961\n"
     ]
    }
   ],
   "source": [
    "model_ordinal = LogisticAT(alpha=1)\n",
    "acc = make_scorer(acc_fun)\n",
    "folds = 3\n",
    "\n",
    "acc_ordinal = cross_val_score(model_ordinal, X_transformed, y, cv=folds, scoring=acc)\n",
    "print('Ordered logistic regression: ', np.mean(acc_ordinal))"
   ]
  }
 ],
 "metadata": {
  "kernelspec": {
   "display_name": "Python 3",
   "language": "python",
   "name": "python3"
  },
  "language_info": {
   "codemirror_mode": {
    "name": "ipython",
    "version": 3
   },
   "file_extension": ".py",
   "mimetype": "text/x-python",
   "name": "python",
   "nbconvert_exporter": "python",
   "pygments_lexer": "ipython3",
   "version": "3.7.4"
  }
 },
 "nbformat": 4,
 "nbformat_minor": 2
}
